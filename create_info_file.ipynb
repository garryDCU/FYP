{
  "nbformat": 4,
  "nbformat_minor": 0,
  "metadata": {
    "colab": {
      "name": "create_info_file.ipynb",
      "provenance": [],
      "collapsed_sections": [],
      "authorship_tag": "ABX9TyPgOow7HT3IQ7f/REsD65ea",
      "include_colab_link": true
    },
    "kernelspec": {
      "name": "python3",
      "display_name": "Python 3"
    },
    "language_info": {
      "name": "python"
    }
  },
  "cells": [
    {
      "cell_type": "markdown",
      "metadata": {
        "id": "view-in-github",
        "colab_type": "text"
      },
      "source": [
        "<a href=\"https://colab.research.google.com/github/garryDCU/FYP/blob/main/create_info_file.ipynb\" target=\"_parent\"><img src=\"https://colab.research.google.com/assets/colab-badge.svg\" alt=\"Open In Colab\"/></a>"
      ]
    },
    {
      "cell_type": "markdown",
      "source": [
        "# Create an information file\n",
        "\n",
        "Includes:\n",
        "* Participant information\n",
        "* Workload at lactate threshold\n",
        "\n",
        "This information will be used to:\n",
        "* Identify steady state workloads (below lactate threshold)\n",
        "* Give me the ability to drill down into the data\n"
      ],
      "metadata": {
        "id": "N6SY2AUGK7O7"
      }
    },
    {
      "cell_type": "markdown",
      "source": [
        "## Imports"
      ],
      "metadata": {
        "id": "0DKsK9e5kYNK"
      }
    },
    {
      "cell_type": "code",
      "execution_count": 41,
      "metadata": {
        "id": "PRgvZVEKJEcu"
      },
      "outputs": [],
      "source": [
        "import pandas as pd\n",
        "import glob\n",
        "from google.colab import drive"
      ]
    },
    {
      "cell_type": "markdown",
      "source": [
        "## *Mount the drive*"
      ],
      "metadata": {
        "id": "63vIwJRISH_v"
      }
    },
    {
      "cell_type": "code",
      "source": [
        "drive.mount('/content/drive')"
      ],
      "metadata": {
        "colab": {
          "base_uri": "https://localhost:8080/"
        },
        "id": "RgXSihJzJULn",
        "outputId": "1cfe6cc0-e886-458c-bb91-eceba6c2de74"
      },
      "execution_count": 42,
      "outputs": [
        {
          "output_type": "stream",
          "name": "stdout",
          "text": [
            "Drive already mounted at /content/drive; to attempt to forcibly remount, call drive.mount(\"/content/drive\", force_remount=True).\n"
          ]
        }
      ]
    },
    {
      "cell_type": "markdown",
      "source": [
        "## *Go through the folder and use the files to create the output CSV file*"
      ],
      "metadata": {
        "id": "egR7V9m0SZYU"
      }
    },
    {
      "cell_type": "code",
      "source": [
        "# create lists for data to go into\n",
        "\n",
        "filename=[]\n",
        "sport=[]\n",
        "gender=[]\n",
        "dob=[]\n",
        "date_test=[]\n",
        "lt_load=[]\n",
        "height=[]\n",
        "weight=[]\n",
        "hb=[]\n",
        "hct=[]\n",
        "rbc=[]\n",
        "wbc=[]"
      ],
      "metadata": {
        "id": "RkKCQziPTTO8"
      },
      "execution_count": 43,
      "outputs": []
    },
    {
      "cell_type": "code",
      "source": [
        "for file in glob.glob('drive/My Drive/FYP/TestData/*.xlsx'):\n",
        "  \n",
        "  # open the file and create dfs\n",
        "  xls = pd.ExcelFile(file)\n",
        "  df1 = pd.read_excel(xls, sheet_name='Sheet1', header=None)\n",
        "  df3 = pd.read_excel(xls, sheet_name='Sheet3', header=None)\n",
        "\n",
        "  # get file name\n",
        "  name=file[28:]\n",
        "  filename.append(name)\n",
        "\n",
        "  # reformat df1\n",
        "  df1=df1.rename(columns={0: \"Measurement\", 1: \"Value\"})\n",
        "  df1=df1.set_index('Measurement')\n",
        "\n",
        "  # update the lists\n",
        "  sport.append(df1._get_value('Test:', 'Value'))\n",
        "  gen=df1._get_value('Gender:', 'Value')\n",
        "  if len(gen)>1:\n",
        "    gender.append(gen[:1])\n",
        "  else:   \n",
        "    gender.append(gen)\n",
        "  dob.append(df1._get_value('DOB:', 'Value'))\n",
        "  date_test.append(df1._get_value('Test Date:', 'Value'))\n",
        "  height.append(df1._get_value('Height', 'Value'))\n",
        "  weight.append(df1._get_value('Weight', 'Value'))\n",
        "  hb.append(df1._get_value('Hb', 'Value'))\n",
        "  hct.append(df1._get_value('Hct', 'Value'))\n",
        "  rbc.append(df1._get_value('RBC', 'Value'))\n",
        "  wbc.append(df1._get_value('WBC', 'Value'))\n",
        "\n",
        "  # reformat df3\n",
        "  df3=df3.rename(columns={0: \"Measurement\", 1: \"Value\"})\n",
        "  df3['Measurement']=['VO2max', 'absolute_VO2max', 'Vemax', 'Hrmax', 'Load_Tlac', 'HR_Tlac', 'percentVO2max_Tlac', 'percentHRmax_Tlac', 'Bla_Tlac', 'Load_2mmol', 'HR_2mmol', 'Bla_160bpm', 'VO2_160bpm', 'Load_160bpm']\n",
        "  df3=df3.set_index('Measurement')\n",
        "\n",
        "  # update the lists\n",
        "  lt_load.append(df3._get_value('Load_Tlac', 'Value'))\n",
        "  "
      ],
      "metadata": {
        "colab": {
          "base_uri": "https://localhost:8080/"
        },
        "id": "PAia286EQ0pp",
        "outputId": "c537cd43-7293-4016-d753-ac77b1a05315"
      },
      "execution_count": 44,
      "outputs": [
        {
          "output_type": "stream",
          "name": "stderr",
          "text": [
            "/usr/local/lib/python3.7/dist-packages/openpyxl/worksheet/_reader.py:312: UserWarning: Unknown extension is not supported and will be removed\n",
            "  warn(msg)\n"
          ]
        }
      ]
    },
    {
      "cell_type": "markdown",
      "source": [
        "## *Create the CSV and export the file back to drive*"
      ],
      "metadata": {
        "id": "4aGA1h78S8oz"
      }
    },
    {
      "cell_type": "code",
      "source": [
        "# create df\n",
        "\n",
        "info_df = pd.DataFrame(\n",
        "    {'file': filename,\n",
        "     'sport': sport,\n",
        "     'gender': gender,\n",
        "     'DOB': dob, \n",
        "     'test_date': date_test, \n",
        "     'lt_load': lt_load, \n",
        "     'height': height,\n",
        "     'weight': weight,\n",
        "     'hb': hb,\n",
        "     'hct': hct,\n",
        "     'rbc': rbc, \n",
        "     'wbc': wbc\n",
        "    })\n",
        "\n",
        "# preview the df\n",
        "\n",
        "info_df.head()"
      ],
      "metadata": {
        "colab": {
          "base_uri": "https://localhost:8080/",
          "height": 206
        },
        "id": "rOSYz79WR-xZ",
        "outputId": "18e95252-51e9-4239-aa5e-07db9e72caf6"
      },
      "execution_count": 45,
      "outputs": [
        {
          "output_type": "execute_result",
          "data": {
            "text/html": [
              "\n",
              "  <div id=\"df-9ebbbb2e-51fe-4488-b92e-3364ac20c006\">\n",
              "    <div class=\"colab-df-container\">\n",
              "      <div>\n",
              "<style scoped>\n",
              "    .dataframe tbody tr th:only-of-type {\n",
              "        vertical-align: middle;\n",
              "    }\n",
              "\n",
              "    .dataframe tbody tr th {\n",
              "        vertical-align: top;\n",
              "    }\n",
              "\n",
              "    .dataframe thead th {\n",
              "        text-align: right;\n",
              "    }\n",
              "</style>\n",
              "<table border=\"1\" class=\"dataframe\">\n",
              "  <thead>\n",
              "    <tr style=\"text-align: right;\">\n",
              "      <th></th>\n",
              "      <th>file</th>\n",
              "      <th>sport</th>\n",
              "      <th>gender</th>\n",
              "      <th>DOB</th>\n",
              "      <th>test_date</th>\n",
              "      <th>lt_load</th>\n",
              "      <th>height</th>\n",
              "      <th>weight</th>\n",
              "      <th>hb</th>\n",
              "      <th>hct</th>\n",
              "      <th>rbc</th>\n",
              "      <th>wbc</th>\n",
              "    </tr>\n",
              "  </thead>\n",
              "  <tbody>\n",
              "    <tr>\n",
              "      <th>0</th>\n",
              "      <td>A104.xlsx</td>\n",
              "      <td>Running</td>\n",
              "      <td>M</td>\n",
              "      <td>1986-06-17 00:00:00</td>\n",
              "      <td>2009-11-11 00:00:00</td>\n",
              "      <td>19.1</td>\n",
              "      <td>1.75</td>\n",
              "      <td>65.2</td>\n",
              "      <td>15.1</td>\n",
              "      <td>44.3</td>\n",
              "      <td>4.78</td>\n",
              "      <td>5.6</td>\n",
              "    </tr>\n",
              "    <tr>\n",
              "      <th>1</th>\n",
              "      <td>A1036.xlsx</td>\n",
              "      <td>Running</td>\n",
              "      <td>M</td>\n",
              "      <td>1982-01-21 00:00:00</td>\n",
              "      <td>2007-03-15 00:00:00</td>\n",
              "      <td>18.1</td>\n",
              "      <td>1.86</td>\n",
              "      <td>65.0</td>\n",
              "      <td>15.3</td>\n",
              "      <td>45.4</td>\n",
              "      <td>4.76</td>\n",
              "      <td>4.6</td>\n",
              "    </tr>\n",
              "    <tr>\n",
              "      <th>2</th>\n",
              "      <td>A1024.xlsx</td>\n",
              "      <td>Running</td>\n",
              "      <td>F</td>\n",
              "      <td>1970-01-05 00:00:00</td>\n",
              "      <td>2006-03-13 00:00:00</td>\n",
              "      <td>16.3</td>\n",
              "      <td>1.77</td>\n",
              "      <td>74.3</td>\n",
              "      <td>13.1</td>\n",
              "      <td>37.3</td>\n",
              "      <td>3.80</td>\n",
              "      <td>5.0</td>\n",
              "    </tr>\n",
              "    <tr>\n",
              "      <th>3</th>\n",
              "      <td>A1004.xlsx</td>\n",
              "      <td>Running</td>\n",
              "      <td>M</td>\n",
              "      <td>1982-02-27 00:00:00</td>\n",
              "      <td>2007-11-14 00:00:00</td>\n",
              "      <td>17.7</td>\n",
              "      <td>1.82</td>\n",
              "      <td>69.0</td>\n",
              "      <td>15.1</td>\n",
              "      <td>46.4</td>\n",
              "      <td>4.81</td>\n",
              "      <td>5.6</td>\n",
              "    </tr>\n",
              "    <tr>\n",
              "      <th>4</th>\n",
              "      <td>A1009.xlsx</td>\n",
              "      <td>Running</td>\n",
              "      <td>M</td>\n",
              "      <td>1969-10-21 00:00:00</td>\n",
              "      <td>2007-11-28 00:00:00</td>\n",
              "      <td>13.3</td>\n",
              "      <td>1.84</td>\n",
              "      <td>88.0</td>\n",
              "      <td>15.4</td>\n",
              "      <td>47.1</td>\n",
              "      <td>5.31</td>\n",
              "      <td>7.3</td>\n",
              "    </tr>\n",
              "  </tbody>\n",
              "</table>\n",
              "</div>\n",
              "      <button class=\"colab-df-convert\" onclick=\"convertToInteractive('df-9ebbbb2e-51fe-4488-b92e-3364ac20c006')\"\n",
              "              title=\"Convert this dataframe to an interactive table.\"\n",
              "              style=\"display:none;\">\n",
              "        \n",
              "  <svg xmlns=\"http://www.w3.org/2000/svg\" height=\"24px\"viewBox=\"0 0 24 24\"\n",
              "       width=\"24px\">\n",
              "    <path d=\"M0 0h24v24H0V0z\" fill=\"none\"/>\n",
              "    <path d=\"M18.56 5.44l.94 2.06.94-2.06 2.06-.94-2.06-.94-.94-2.06-.94 2.06-2.06.94zm-11 1L8.5 8.5l.94-2.06 2.06-.94-2.06-.94L8.5 2.5l-.94 2.06-2.06.94zm10 10l.94 2.06.94-2.06 2.06-.94-2.06-.94-.94-2.06-.94 2.06-2.06.94z\"/><path d=\"M17.41 7.96l-1.37-1.37c-.4-.4-.92-.59-1.43-.59-.52 0-1.04.2-1.43.59L10.3 9.45l-7.72 7.72c-.78.78-.78 2.05 0 2.83L4 21.41c.39.39.9.59 1.41.59.51 0 1.02-.2 1.41-.59l7.78-7.78 2.81-2.81c.8-.78.8-2.07 0-2.86zM5.41 20L4 18.59l7.72-7.72 1.47 1.35L5.41 20z\"/>\n",
              "  </svg>\n",
              "      </button>\n",
              "      \n",
              "  <style>\n",
              "    .colab-df-container {\n",
              "      display:flex;\n",
              "      flex-wrap:wrap;\n",
              "      gap: 12px;\n",
              "    }\n",
              "\n",
              "    .colab-df-convert {\n",
              "      background-color: #E8F0FE;\n",
              "      border: none;\n",
              "      border-radius: 50%;\n",
              "      cursor: pointer;\n",
              "      display: none;\n",
              "      fill: #1967D2;\n",
              "      height: 32px;\n",
              "      padding: 0 0 0 0;\n",
              "      width: 32px;\n",
              "    }\n",
              "\n",
              "    .colab-df-convert:hover {\n",
              "      background-color: #E2EBFA;\n",
              "      box-shadow: 0px 1px 2px rgba(60, 64, 67, 0.3), 0px 1px 3px 1px rgba(60, 64, 67, 0.15);\n",
              "      fill: #174EA6;\n",
              "    }\n",
              "\n",
              "    [theme=dark] .colab-df-convert {\n",
              "      background-color: #3B4455;\n",
              "      fill: #D2E3FC;\n",
              "    }\n",
              "\n",
              "    [theme=dark] .colab-df-convert:hover {\n",
              "      background-color: #434B5C;\n",
              "      box-shadow: 0px 1px 3px 1px rgba(0, 0, 0, 0.15);\n",
              "      filter: drop-shadow(0px 1px 2px rgba(0, 0, 0, 0.3));\n",
              "      fill: #FFFFFF;\n",
              "    }\n",
              "  </style>\n",
              "\n",
              "      <script>\n",
              "        const buttonEl =\n",
              "          document.querySelector('#df-9ebbbb2e-51fe-4488-b92e-3364ac20c006 button.colab-df-convert');\n",
              "        buttonEl.style.display =\n",
              "          google.colab.kernel.accessAllowed ? 'block' : 'none';\n",
              "\n",
              "        async function convertToInteractive(key) {\n",
              "          const element = document.querySelector('#df-9ebbbb2e-51fe-4488-b92e-3364ac20c006');\n",
              "          const dataTable =\n",
              "            await google.colab.kernel.invokeFunction('convertToInteractive',\n",
              "                                                     [key], {});\n",
              "          if (!dataTable) return;\n",
              "\n",
              "          const docLinkHtml = 'Like what you see? Visit the ' +\n",
              "            '<a target=\"_blank\" href=https://colab.research.google.com/notebooks/data_table.ipynb>data table notebook</a>'\n",
              "            + ' to learn more about interactive tables.';\n",
              "          element.innerHTML = '';\n",
              "          dataTable['output_type'] = 'display_data';\n",
              "          await google.colab.output.renderOutput(dataTable, element);\n",
              "          const docLink = document.createElement('div');\n",
              "          docLink.innerHTML = docLinkHtml;\n",
              "          element.appendChild(docLink);\n",
              "        }\n",
              "      </script>\n",
              "    </div>\n",
              "  </div>\n",
              "  "
            ],
            "text/plain": [
              "         file    sport gender                  DOB  ...    hb   hct   rbc  wbc\n",
              "0   A104.xlsx  Running      M  1986-06-17 00:00:00  ...  15.1  44.3  4.78  5.6\n",
              "1  A1036.xlsx  Running      M  1982-01-21 00:00:00  ...  15.3  45.4  4.76  4.6\n",
              "2  A1024.xlsx  Running      F  1970-01-05 00:00:00  ...  13.1  37.3  3.80  5.0\n",
              "3  A1004.xlsx  Running      M  1982-02-27 00:00:00  ...  15.1  46.4  4.81  5.6\n",
              "4  A1009.xlsx  Running      M  1969-10-21 00:00:00  ...  15.4  47.1  5.31  7.3\n",
              "\n",
              "[5 rows x 12 columns]"
            ]
          },
          "metadata": {},
          "execution_count": 45
        }
      ]
    },
    {
      "cell_type": "code",
      "source": [
        "# output as a CSV\n",
        "\n",
        "info_df.to_csv('drive/My Drive/FYP/DataInfo.csv')"
      ],
      "metadata": {
        "id": "CDJR4EZVawU3"
      },
      "execution_count": 46,
      "outputs": []
    }
  ]
}